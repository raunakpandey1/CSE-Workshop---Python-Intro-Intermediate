{
  "nbformat": 4,
  "nbformat_minor": 0,
  "metadata": {
    "colab": {
      "provenance": []
    },
    "kernelspec": {
      "name": "python3",
      "display_name": "Python 3"
    },
    "language_info": {
      "name": "python"
    }
  },
  "cells": [
    {
      "cell_type": "markdown",
      "source": [
        "# Part 1: Introduction"
      ],
      "metadata": {
        "id": "a3z-Xii0WO27"
      }
    },
    {
      "cell_type": "code",
      "source": [
        "print(\"Hello UB\")"
      ],
      "metadata": {
        "id": "4wBRtl9bWU68"
      },
      "execution_count": null,
      "outputs": []
    },
    {
      "cell_type": "markdown",
      "source": [
        "# Part 2: Variables and Basic Data types\n",
        "\n",
        "**Variables** are names that store data in memory so it can be used and manipulated later. They act like containers that hold values, e.g.,\n",
        "`x = 10`. They make programs flexible, since you can change the stored value anytime.\n",
        "\n",
        "**Data types** define the kind of values a variable can hold. Common types are int (numbers), float (decimal numbers), str (text), and bool (True/False)."
      ],
      "metadata": {
        "id": "7kaQRMktWz_g"
      }
    },
    {
      "cell_type": "code",
      "source": [],
      "metadata": {
        "id": "Q50utdLHWy5G"
      },
      "execution_count": 58,
      "outputs": []
    },
    {
      "cell_type": "markdown",
      "source": [
        "# Task 1:\n",
        "Assign variables for your name, age and gpa, and print them  "
      ],
      "metadata": {
        "id": "vMXtLQqgf6Dx"
      }
    },
    {
      "cell_type": "code",
      "source": [
        "# Code here\n"
      ],
      "metadata": {
        "id": "Zep5FkRogL8Y"
      },
      "execution_count": 59,
      "outputs": []
    },
    {
      "cell_type": "markdown",
      "source": [
        "# Part 3: Operators\n",
        "* Arithmetic (+, - , / , *, %, **, //)\n",
        "* Comparison (< , > , <= ,>= , !=, ==)\n",
        "* Logical (or, and, not)\n"
      ],
      "metadata": {
        "id": "zD0wioP5VW6Y"
      }
    },
    {
      "cell_type": "code",
      "execution_count": 92,
      "metadata": {
        "id": "Kyo1RKWaVDNX"
      },
      "outputs": [],
      "source": [
        "# Arithmetic\n",
        "# code here"
      ]
    },
    {
      "cell_type": "code",
      "source": [
        "# Comparison\n",
        " # code here\n",
        "\n"
      ],
      "metadata": {
        "id": "y1jY6GXof4c-"
      },
      "execution_count": 93,
      "outputs": []
    },
    {
      "cell_type": "code",
      "source": [
        "# Logical\n",
        " # code here"
      ],
      "metadata": {
        "id": "cxwuJ2UEgTpk"
      },
      "execution_count": 94,
      "outputs": []
    },
    {
      "cell_type": "markdown",
      "source": [
        "#Task 3a: Your Favorite Number Doubler\n",
        "\n",
        "Description :\n",
        "        1.  Take input from the user\n",
        "        2.  Double it\n",
        "        3.  Print the output\n",
        "\n",
        "\n",
        "\n",
        "\n"
      ],
      "metadata": {
        "id": "UrD3PqWPNvsJ"
      }
    },
    {
      "cell_type": "code",
      "source": [
        " # code here"
      ],
      "metadata": {
        "id": "gtJrwzdqASQ8"
      },
      "execution_count": 64,
      "outputs": []
    },
    {
      "cell_type": "markdown",
      "source": [
        "## **Part 4 : Control Flow:**\n",
        "* Conditionals (if, elif, else)\n",
        "* Loops (For, While)\n"
      ],
      "metadata": {
        "id": "nazyteQEVvX4"
      }
    },
    {
      "cell_type": "code",
      "source": [
        "# code here\n",
        "# 4a Conditionals (if, elif, else)"
      ],
      "metadata": {
        "id": "pmRB5f1KlXpY"
      },
      "execution_count": 65,
      "outputs": []
    },
    {
      "cell_type": "markdown",
      "source": [
        "# Task 4a: Create User login system\n",
        "Description :\n",
        "1. Define some defualt values to admin_username and admin_password\n",
        "2. Take username and password from user\n",
        "3. Use if else and operators to compare the credentials.\n",
        "4. If it matches, Print \"Admin logged in successfully.\"\n",
        "5. else Print \"Invalid Credentials.\"\n",
        "\n"
      ],
      "metadata": {
        "id": "_WW3GoN8NoXi"
      }
    },
    {
      "cell_type": "code",
      "source": [
        "# code here"
      ],
      "metadata": {
        "id": "NMHWkTRuzrWB"
      },
      "execution_count": 66,
      "outputs": []
    },
    {
      "cell_type": "markdown",
      "source": [
        "## Part 4b Loops"
      ],
      "metadata": {
        "id": "SbDT7X7s0aX1"
      }
    },
    {
      "cell_type": "code",
      "source": [
        "# code here"
      ],
      "metadata": {
        "id": "sCkzRLT_0Z8u"
      },
      "execution_count": 67,
      "outputs": []
    },
    {
      "cell_type": "markdown",
      "source": [
        "# Task 4b: Find sum of first 10 natural numbers\n",
        "* Instruction : use while loop"
      ],
      "metadata": {
        "id": "DKyA3YEThbIV"
      }
    },
    {
      "cell_type": "code",
      "source": [
        "# code here"
      ],
      "metadata": {
        "id": "GR62fbqb6MGY"
      },
      "execution_count": 68,
      "outputs": []
    },
    {
      "cell_type": "markdown",
      "source": [
        "# Task 4c: Find prime numbers from 1 to 100.\n",
        "* Prime numbers =?\n",
        "* Instruction : Use for loop"
      ],
      "metadata": {
        "id": "WrtpvxfY3mE-"
      }
    },
    {
      "cell_type": "code",
      "source": [
        "# code here"
      ],
      "metadata": {
        "id": "4wH3e6lU33sm"
      },
      "execution_count": 69,
      "outputs": []
    },
    {
      "cell_type": "markdown",
      "source": [
        "# Task 4d: Grocery Total Price calculator\n",
        "List of items: apples, milk, candies with price\n",
        "User input how many they bought -> total price\n",
        "\n",
        "Description:\n",
        "1. Create a dictionary of items and their prices. e.g. {\"apples\": 3.0, \"milk\": 5.0}\n",
        "2. Print the items with their prices\n",
        "3. take 3 inputs from user for each item quanity\n",
        "4. Calculate Total Price.\n",
        "5. Print Total Price"
      ],
      "metadata": {
        "id": "iGrnSw7oBMFN"
      }
    },
    {
      "cell_type": "code",
      "source": [
        "# code here"
      ],
      "metadata": {
        "id": "1-Qq-UfJlc5m"
      },
      "execution_count": 70,
      "outputs": []
    },
    {
      "cell_type": "markdown",
      "source": [
        "# Part 5: Advanced Data Types\n",
        "\n",
        "### List\n",
        "- Ordered collection of items\n",
        "- Mutable (can be changed)\n",
        "- Example: my_list = [1, 2, 3]\n",
        "\n",
        "### Tuple\n",
        "- Ordered collection of items\n",
        "- Immutable (cannot be changed once created)\n",
        "- Example: my_tuple = (1, 2, 3)\n",
        "\n",
        "### Set\n",
        "- Unordered collection of unique items\n",
        "- Automatically removes duplicates\n",
        "- Example: my_set = {1, 2, 2, 3} → {1, 2, 3}\n",
        "\n",
        "### Dictionary\n",
        "- Collection of key-value pairs\n",
        "- Keys must be unique, values can repeat\n",
        "- Example: my_dict = {\"a\": 1, \"b\": 2}"
      ],
      "metadata": {
        "id": "I51ezHJnYfIU"
      }
    },
    {
      "cell_type": "markdown",
      "source": [
        "## Task 5a\n",
        "You have to define a list named `cart` representing items in a shopping cart as `apple, banana, orange`.\n",
        "\n",
        "- Add \"grapes\" to the cart\n",
        "- Remove \"banana\"\n",
        "- print the first element from the cart\n",
        "- Print the final cart"
      ],
      "metadata": {
        "id": "qxqZon18cada"
      }
    },
    {
      "cell_type": "code",
      "source": [
        "# Code here\n"
      ],
      "metadata": {
        "id": "1CLKynBfcqrc"
      },
      "execution_count": 60,
      "outputs": []
    },
    {
      "cell_type": "markdown",
      "source": [
        "## Task 5b\n",
        "\n",
        "You have define a dictionary named `student` storing a student’s information `name: John, age: 20, grade: A`\n",
        "\n",
        "- Update the age to 21\n",
        "- Add a new key \"course\" with value \"Python\"\n",
        "- Print the student’s name and course in the format `John is enrolled in Python`\n",
        "- Print the complete dictionary"
      ],
      "metadata": {
        "id": "TIgdwzgbd-rQ"
      }
    },
    {
      "cell_type": "code",
      "source": [
        "# Code here\n",
        "\n",
        ""
      ],
      "metadata": {
        "id": "p4KCp4dQejeH"
      },
      "execution_count": 61,
      "outputs": []
    },
    {
      "cell_type": "markdown",
      "source": [
        "# Part 6: Functions\n",
        "Functions are reusable blocks of code that perform a specific task, improving modularity and reducing repetition."
      ],
      "metadata": {
        "id": "-wLl8Ja6s6m1"
      }
    },
    {
      "cell_type": "code",
      "source": [],
      "metadata": {
        "id": "_LA4_rROtE5M"
      },
      "execution_count": 61,
      "outputs": []
    },
    {
      "cell_type": "markdown",
      "source": [
        "## Task 6\n",
        "\n",
        "Write a function called celsius_to_fahrenheit(celsius) that:\n",
        "- Takes temperature in Celsius as input\n",
        "- Converts it to Fahrenheit using the formula: `𝐹 = (𝐶 × 9/5) + 32`\n",
        "- Returns the Fahrenheit value\n",
        "- Call the function 3 times with different values and print the result"
      ],
      "metadata": {
        "id": "jF5lTdPltY9i"
      }
    },
    {
      "cell_type": "code",
      "source": [
        "# Code here\n",
        ""
      ],
      "metadata": {
        "id": "RIRfN70EuERY"
      },
      "execution_count": 62,
      "outputs": []
    },
    {
      "cell_type": "markdown",
      "source": [
        "## **Part 7: File Handling:** Python provides built-in functions and methods to read from and write to files"
      ],
      "metadata": {
        "id": "3OzAUONSV7Zv"
      }
    },
    {
      "cell_type": "code",
      "source": [
        "## Writing a file(Overwriting)\n",
        "\n",
        "\n"
      ],
      "metadata": {
        "id": "b8f2wCHD4qC_"
      },
      "execution_count": 71,
      "outputs": []
    },
    {
      "cell_type": "code",
      "source": [
        "## Write a file(without Overwriting)\n",
        ""
      ],
      "metadata": {
        "id": "rwt6LrWZ6XcR"
      },
      "execution_count": 72,
      "outputs": []
    },
    {
      "cell_type": "code",
      "source": [
        "### Read a Whole File\n",
        ""
      ],
      "metadata": {
        "id": "5UCIUc1y6dfr"
      },
      "execution_count": 73,
      "outputs": []
    },
    {
      "cell_type": "markdown",
      "source": [
        "# Task 7a : Write the Grocery Total Price in a file grocery.txt and Read it."
      ],
      "metadata": {
        "id": "wtdLIGOTUQnO"
      }
    },
    {
      "cell_type": "code",
      "source": [
        "# write and read\n",
        ""
      ],
      "metadata": {
        "id": "GF_D6AYelgIQ"
      },
      "execution_count": 74,
      "outputs": []
    },
    {
      "cell_type": "markdown",
      "source": [
        "## **Part 8 :Exceptions Handling:**\n",
        "It enables you to deal with errors effectively and continue running the program without disruptions."
      ],
      "metadata": {
        "id": "HAUJ2W_FWYkl"
      }
    },
    {
      "cell_type": "markdown",
      "source": [
        "**Exceptions**\n",
        "-these are events that disrupt the normal flow of a program.  \n",
        "Common exceptions include:\n",
        "* ZeroDivisionError: Dividing by zero.\n",
        "* FileNotFoundError: File not found.\n",
        "* ValueError: Invalid value.\n",
        "* TypeError: Invalid type."
      ],
      "metadata": {
        "id": "TaIALNzn0AeW"
      }
    },
    {
      "cell_type": "code",
      "source": [
        "# code here"
      ],
      "metadata": {
        "id": "m7kJUQQD4mjj"
      },
      "execution_count": 75,
      "outputs": []
    },
    {
      "cell_type": "markdown",
      "source": [
        "# Task 8a: Division of two numbers\n",
        "\n",
        "1. Accept two input numerator(a) and denominator(b) from user\n",
        "2. find a/b\n",
        "3. Handle exception if denominator<0"
      ],
      "metadata": {
        "id": "LHrIKnfea1rX"
      }
    },
    {
      "cell_type": "code",
      "source": [
        "# code here"
      ],
      "metadata": {
        "id": "AVAT2dDnijJ_"
      },
      "execution_count": 76,
      "outputs": []
    },
    {
      "cell_type": "markdown",
      "source": [
        "## **Part 9: OOPs Basic:**\n",
        "\n",
        "* Class and Object\n",
        "* Attributes and Methods\n",
        "* __init__ constructor\n",
        "\n",
        "\n",
        "- Object-Oriented Programming (OOP) is a programming paradigm which uses \"objects\" to build applications and computer programs. it allows for modeling real-world scenarios using classes and objects."
      ],
      "metadata": {
        "id": "xiwcCjekWlye"
      }
    },
    {
      "cell_type": "code",
      "source": [
        "# code here"
      ],
      "metadata": {
        "id": "zyr_vUodWuEY"
      },
      "execution_count": 77,
      "outputs": []
    },
    {
      "cell_type": "markdown",
      "source": [
        "**Task 9a:** Create a class for Bank Account.\n",
        "class name - Account\n",
        "attributes - owner , money\n",
        "methods - deposit, withdraw, current_balance"
      ],
      "metadata": {
        "id": "RmyuO8JM7DNh"
      }
    },
    {
      "cell_type": "code",
      "source": [
        "# code here"
      ],
      "metadata": {
        "id": "DxdYy2HI8LKD"
      },
      "execution_count": 78,
      "outputs": []
    },
    {
      "cell_type": "markdown",
      "source": [
        "# Part 10a: NumPy\n",
        "NumPy is a python library for fast numerical computations with arrays and matrices.\n",
        "\n",
        "Official documentation - https://numpy.org/doc/2.3/user/index.html"
      ],
      "metadata": {
        "id": "p6z7dUSDv_L_"
      }
    },
    {
      "cell_type": "code",
      "source": [
        "\n"
      ],
      "metadata": {
        "id": "zrI3I65CxgAC"
      },
      "execution_count": 62,
      "outputs": []
    },
    {
      "cell_type": "code",
      "source": [],
      "metadata": {
        "id": "Yhh-2oC117cT"
      },
      "execution_count": 62,
      "outputs": []
    },
    {
      "cell_type": "markdown",
      "source": [
        "## Task 10a\n",
        "\n",
        "You are given a 2D NumPy array representing the marks of 3 students in 3 subjects.\n",
        "\n",
        "- Print the marks of Student 2 in Subject 3.\n",
        "- Calculate the average marks of each student.\n",
        "- Find the highest marks scored in each subject."
      ],
      "metadata": {
        "id": "TIoDVtGY1i3J"
      }
    },
    {
      "cell_type": "code",
      "source": [],
      "metadata": {
        "id": "XtbJGNli2wzo"
      },
      "execution_count": 62,
      "outputs": []
    },
    {
      "cell_type": "markdown",
      "source": [
        "# Part 10b: Pandas"
      ],
      "metadata": {
        "id": "khO8jkCi1ldS"
      }
    },
    {
      "cell_type": "code",
      "source": [],
      "metadata": {
        "id": "5G7gD8Ix102r"
      },
      "execution_count": 63,
      "outputs": []
    },
    {
      "cell_type": "markdown",
      "source": [
        "## Task 10b\n",
        "\n",
        "You have a DataFrame containing student information\n",
        "\n",
        "- Filter and show students who scored more than 80 marks.\n",
        "- Add a new column Grade, which is \"Pass\" if Marks ≥ 80, else \"Fail\"."
      ],
      "metadata": {
        "id": "20j8JcwH1tGD"
      }
    },
    {
      "cell_type": "code",
      "source": [],
      "metadata": {
        "id": "x1xdLRtd133H"
      },
      "execution_count": 95,
      "outputs": []
    },
    {
      "cell_type": "markdown",
      "source": [
        "\n",
        "\n",
        "---\n",
        "\n"
      ],
      "metadata": {
        "id": "6fviB3o7VV08"
      }
    },
    {
      "cell_type": "markdown",
      "source": [
        "## **Part 10c: Matplotlib:**\n",
        "* Definition - library for creating static, animated, and interactive visualizations in Python.\n",
        "* Refer the below links for more details: https://matplotlib.org/stable/install/index.html\n",
        "* https://matplotlib.org/stable/api/_as_gen/matplotlib.pyplot.bar.html"
      ],
      "metadata": {
        "id": "lBQN2V0tWuf1"
      }
    },
    {
      "cell_type": "markdown",
      "source": [
        "# Mini Task 1: Install matplotlib"
      ],
      "metadata": {
        "id": "7Y2icuC-bS4Z"
      }
    },
    {
      "cell_type": "code",
      "source": [
        "# install\n",
        "# code here"
      ],
      "metadata": {
        "id": "BibGUUa8sWBo"
      },
      "execution_count": 79,
      "outputs": []
    },
    {
      "cell_type": "markdown",
      "source": [
        "# Mini Task 2: Import matplotlib"
      ],
      "metadata": {
        "id": "De2GNvIHbprf"
      }
    },
    {
      "cell_type": "code",
      "source": [
        "# code here"
      ],
      "metadata": {
        "id": "utuPLvrquIF7"
      },
      "execution_count": 80,
      "outputs": []
    },
    {
      "cell_type": "code",
      "source": [
        "###Plot\n",
        "categories=['A','B','C','D']\n",
        "values=[3,6,5,7]\n",
        "\n",
        "# code here"
      ],
      "metadata": {
        "id": "oLOjwzk0uSLS"
      },
      "execution_count": 81,
      "outputs": []
    },
    {
      "cell_type": "markdown",
      "source": [
        "## **Mini Project:**\n",
        "**Problem Statement :**\n",
        "Analyze the Students_performance.csv dataset to evaluate how students’ performance varies by gender across different subjects (math, reading, and writing), and visually represent these differences using a bar graph for clear comparison.\n"
      ],
      "metadata": {
        "id": "z-uERCnCubCO"
      }
    },
    {
      "cell_type": "markdown",
      "source": [
        "# Mini Task 1 :\n",
        "Upload the file directly on google colab\n",
        "\n",
        "OR\n",
        "\n",
        "Upload the csv file on google drive and mount drive\n",
        "\n",
        "Step 1: Get the file ID\n",
        "\n",
        "Suppose your Google Drive shareable link looks like this:\n",
        "\n",
        "https://drive.google.com/file/d/1AbCDeFGhIJkLMNOPqrStuVWxyz/view?usp=sharing\n",
        "\n",
        "\n",
        "Here, the file ID is:\n",
        "\n",
        "1AbCDeFGhIJkLMNOPqrStuVWxyz\n",
        "\n",
        "Step 2: Convert it into a direct download link\n",
        "https://drive.google.com/uc?id=FILE_ID\n",
        "\n",
        "\n",
        "For the above example:\n",
        "\n",
        "https://drive.google.com/uc?id=1AbCDeFGhIJkLMNOPqrStuVWxyz"
      ],
      "metadata": {
        "id": "g09CMqoliv6Q"
      }
    },
    {
      "cell_type": "code",
      "source": [
        "#  Optional\n",
        "# from google.colab import drive\n",
        "# drive.mount('/content/gdrive')"
      ],
      "metadata": {
        "id": "4qGgSoJy3Kyk"
      },
      "execution_count": 95,
      "outputs": []
    },
    {
      "cell_type": "markdown",
      "source": [
        "# Mini Task 2: install pandas"
      ],
      "metadata": {
        "id": "fgIad-kLjJaO"
      }
    },
    {
      "cell_type": "code",
      "source": [
        "# code here"
      ],
      "metadata": {
        "id": "IqiWm711uuw_"
      },
      "execution_count": 83,
      "outputs": []
    },
    {
      "cell_type": "markdown",
      "source": [
        "# Mini Task 3: import pandas"
      ],
      "metadata": {
        "id": "s8RonslojMlF"
      }
    },
    {
      "cell_type": "code",
      "source": [
        "# code here"
      ],
      "metadata": {
        "id": "rWMNbGdH2mJL"
      },
      "execution_count": 82,
      "outputs": []
    },
    {
      "cell_type": "markdown",
      "source": [
        "# Mini Task 4: Read the file"
      ],
      "metadata": {
        "id": "SwvDKnyPjdNF"
      }
    },
    {
      "cell_type": "code",
      "source": [
        "# code here\n",
        "# url = \"https://drive.google.com/uc?id=1x9ifZF2rtJScCJgVJUl2oxK9UB8bkPul\"\n"
      ],
      "metadata": {
        "id": "ntZ3cdCy2owo"
      },
      "execution_count": 90,
      "outputs": []
    },
    {
      "cell_type": "markdown",
      "source": [
        "# Mini Task 5 : Show first 5 rows in the dataset"
      ],
      "metadata": {
        "id": "5JL9JsHEji0U"
      }
    },
    {
      "cell_type": "code",
      "source": [
        "# code here"
      ],
      "metadata": {
        "id": "TxpbY9WR6Tg1"
      },
      "execution_count": 86,
      "outputs": []
    },
    {
      "cell_type": "markdown",
      "source": [
        "# Mini Task 6: Install matplotlib (if not present)"
      ],
      "metadata": {
        "id": "WJyEs77SkBA0"
      }
    },
    {
      "cell_type": "code",
      "source": [
        "# code here"
      ],
      "metadata": {
        "id": "ItL3cfPLkICy"
      },
      "execution_count": 85,
      "outputs": []
    },
    {
      "cell_type": "markdown",
      "source": [
        "# Mini Task 7 : Import matplotlib"
      ],
      "metadata": {
        "id": "08T5y2mXkKw-"
      }
    },
    {
      "cell_type": "code",
      "source": [
        "# code here"
      ],
      "metadata": {
        "id": "v7chYQPNkOo8"
      },
      "execution_count": 87,
      "outputs": []
    },
    {
      "cell_type": "markdown",
      "source": [
        "# Mini Task 8 : Group by gender and calculate mean scores"
      ],
      "metadata": {
        "id": "opSfLiQWkO_k"
      }
    },
    {
      "cell_type": "code",
      "source": [
        "# code here"
      ],
      "metadata": {
        "id": "HrpY82WmkUJP"
      },
      "execution_count": 88,
      "outputs": []
    },
    {
      "cell_type": "markdown",
      "source": [
        "# Mini Task 9: Plot the bar graph"
      ],
      "metadata": {
        "id": "5cagutmWkYmK"
      }
    },
    {
      "cell_type": "code",
      "source": [
        "# code here"
      ],
      "metadata": {
        "id": "qQIJ4DyFkdpZ"
      },
      "execution_count": 89,
      "outputs": []
    },
    {
      "cell_type": "markdown",
      "source": [
        "## **Operator Overloading:**\n",
        "It allows you to define the behavior of operators (+, -, *, etc.) for custom objects e.g. Vectors. You achieve this by overriding specific magic methods in your class.\n",
        "\n"
      ],
      "metadata": {
        "id": "gXbtgol3cxG5"
      }
    },
    {
      "cell_type": "code",
      "source": [
        "# - Common Operator Overloading Magic Methods\n",
        "#   * __add__(self, other): Adds two objects using the + operator.\n",
        "#   * __sub__(self, other): Subtracts two objects using the - operator.\n",
        "#   * __mul__(self, other): Multiplies two objects using the * operator.\n",
        "#   * __truediv__(self, other): Divides two objects using the / operator.\n",
        "#   * __repr__: Returns an string representation of an object.\n"
      ],
      "metadata": {
        "id": "strptFT3sOBE"
      },
      "execution_count": null,
      "outputs": []
    },
    {
      "cell_type": "markdown",
      "source": [
        "**Question : Perform Operator Overloading for Complex numbers:**\n",
        "* c1 = 3+4i , c2 = 4+2i"
      ],
      "metadata": {
        "id": "FCu-DqjKmk_j"
      }
    }
  ]
}